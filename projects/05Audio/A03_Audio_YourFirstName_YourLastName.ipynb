{
 "cells": [
  {
   "cell_type": "markdown",
   "metadata": {},
   "source": [
    "# Assignment 03\n",
    "\n",
    "You can choose between the text processing and the audio processing.\n",
    "\n",
    "You should work on both. \n",
    "Then choose one of them and submit it by the deadline (check Canvas)."
   ]
  },
  {
   "cell_type": "code",
   "execution_count": 1,
   "metadata": {},
   "outputs": [],
   "source": [
    "# import packages\n",
    "import numpy as np\n",
    "import pandas as pd\n",
    "import re\n",
    "import matplotlib.pyplot as mpl\n",
    "from scipy.io.wavfile import write\n",
    "from scipy.io.wavfile import read\n",
    "\n",
    "\n",
    "# The 'raw' sound wave -- let's print it\n",
    "def print_wave(signal,n_samples):\n",
    "    fontsizeV = 12\n",
    "    mpl.plot(signal[:n_samples])\n",
    "    mpl.xlabel('Time',fontsize=fontsizeV)\n",
    "    mpl.ylabel('Amplitude',fontsize=fontsizeV)\n",
    "    #mpl.title('Title')\n",
    "    mpl.grid(True)\n",
    "    mpl.tight_layout()"
   ]
  },
  {
   "cell_type": "markdown",
   "metadata": {},
   "source": [
    "## Assignment 02: more examples\n",
    "\n",
    "#### Example 1 of project for assignment 03: Audio processing\n",
    "\n",
    "1) select a brief jingle (few notes)\n",
    "\n",
    "2) create the jingle\n",
    "\n",
    "3) make it sounds pleasent (decay the end of each note, short separation between notes)\n",
    "\n",
    "4) add small noice in the background (white noise, or some noise you have in data/ folder), still making the sounds recognizable\n",
    "\n",
    "5) if you want, you can create a small echo, to make the jingle more interesting :)\n",
    "\n",
    "************\n",
    "#### Example 2 of project for assignment 03: Audio processing\n",
    "\n",
    "1) select one audio recording with a short speech (e.g., data/first_sound.wav or data/my_second_example.wav)\n",
    "\n",
    "2) make the pauses between words shorter (to 0? or to 0.5 seconds?)\n",
    "\n",
    "3) use the library as in udio_modification to recognize words\n",
    "\n",
    "4) modify the audio file, add noise (start with small noise and then increase it): are the words still recognizable by the automatic recognition ? what if you increase it substantially? check data/ folder for noise samples!\n",
    "\n",
    "5) if we add a small echo, is the API still working? try to find the limit for recognizing the words\n",
    "\n",
    "\n",
    "\n",
    "************\n",
    "#### Example 3 of project for assignment 03: Audio + text processing\n",
    "[more complicated, I like it indeed!]\n",
    "\n",
    "1) find an audio file \n",
    "\n",
    "2) get the text out of it with tautomatic recognition as in example 2\n",
    "\n",
    "3) process the text (with the techniques seen in text processing) of your favourite songs"
   ]
  },
  {
   "cell_type": "markdown",
   "metadata": {},
   "source": [
    "# Project 3 - Accuracy of the Speech Recognition Model: \n",
    "\n",
    "In this project, I wanted to find out the accuracy of the SpeechRecognition model in Python.\n",
    "\n",
    "Basically, I downloaded the audio files of a few youtube videos, got the text out of them using the SpeechRecognition model, and compare them with YouTube's closed captions, which are generally very accurate.\n",
    "\n",
    "Throughout the project, I found out that the SpeechRecognition model works better if the narrator is talking slow, and the model does not work well with music, especially rap music.\n",
    "\n",
    "I found other limits of the model as well, such as it cannnot large wav files. Also, if the text in the audio is too long, the model will limit the text output to around 400 characters. I tried to use AudioSegment from pydub to break down the audio to chunks, but the SpeechRecognition model threw errors in getting texts from half of the chunks and resulted in a partial file.\n",
    "\n",
    "Overall, I liked the experience of exploring different techniques and audios in this project.\n"
   ]
  },
  {
   "cell_type": "code",
   "execution_count": 2,
   "metadata": {},
   "outputs": [],
   "source": [
    "# your code"
   ]
  },
  {
   "cell_type": "code",
   "execution_count": 3,
   "metadata": {},
   "outputs": [
    {
     "name": "stdout",
     "output_type": "stream",
     "text": [
      "Defaulting to user installation because normal site-packages is not writeable\n",
      "Requirement already satisfied: SpeechRecognition in /home/zih020/.local/lib/python3.9/site-packages (3.8.1)\n",
      "Requirement already satisfied: pydub in /home/zih020/.local/lib/python3.9/site-packages (0.25.1)\n"
     ]
    }
   ],
   "source": [
    "!pip3 install SpeechRecognition pydub"
   ]
  },
  {
   "cell_type": "code",
   "execution_count": 4,
   "metadata": {},
   "outputs": [],
   "source": [
    "import speech_recognition as sr\n",
    "\n",
    "r = sr.Recognizer()"
   ]
  },
  {
   "cell_type": "markdown",
   "metadata": {},
   "source": [
    "let's see if the SpeechRecognizer is working properly"
   ]
  },
  {
   "cell_type": "code",
   "execution_count": 5,
   "metadata": {},
   "outputs": [
    {
     "name": "stdout",
     "output_type": "stream",
     "text": [
      "you're listening to data science 96 audio recording\n"
     ]
    }
   ],
   "source": [
    "with sr.AudioFile(\"data/first_sound.wav\") as source_test:\n",
    "    # listen for the data (load audio to memory)\n",
    "    audio_data = r.record(source_test)\n",
    "    # recognize (convert from speech to text)\n",
    "    text = r.recognize_google(audio_data)\n",
    "    print(text)"
   ]
  },
  {
   "cell_type": "markdown",
   "metadata": {},
   "source": [
    "Yes, it is.\n",
    "Now, let's get the text from a one-minute audio about supply and demand.\n",
    "(I chose a one minute audio because a longer audio would not be processed correctly without breaking the pipe)"
   ]
  },
  {
   "cell_type": "code",
   "execution_count": 6,
   "metadata": {},
   "outputs": [
    {
     "name": "stdout",
     "output_type": "stream",
     "text": [
      "what assume you live in a small town where nobody sells bananas in other words zero Supply now let's also assume that the people who live there would love to eat bananas in other words there's a decent amanfour bananas as we can see there is currently an imbalance people want bananas but there is no sellers Peter understands this and start selling bananas at the beginning his profits will be huge because lots of people want bananas and he's the only one who has them as time passes however Sarah will notice hello Peter is doing and start selling bananas yourself this increases the supply of bananas and diminishes Peters profit potential the more people start selling bananas no more supplies if too many people end up selling bananas but the demand doesn't increases well there will be too much Supply and some of them will go out of business eventually some kind of a balance tends to be reached\n"
     ]
    }
   ],
   "source": [
    "with sr.AudioFile(\"data/Supply_and_Demand_Explained_in_One_Minute.wav\") as SADEIOM_source:\n",
    "    # listen for the data (load audio to memory)\n",
    "    SADEIOM_audio_data = r.record(SADEIOM_source)\n",
    "    # recognize (convert from speech to text)\n",
    "    SADEIOM_text = r.recognize_google(SADEIOM_audio_data)\n",
    "    print(SADEIOM_text)"
   ]
  },
  {
   "cell_type": "markdown",
   "metadata": {},
   "source": [
    "Looks good. Now let's get the closed caption for this audio from youtube."
   ]
  },
  {
   "cell_type": "code",
   "execution_count": 7,
   "metadata": {},
   "outputs": [],
   "source": [
    "with open('data/Supply_and_Demand_Explained_in_One_Minute.txt', 'rb') as SADEIOM_f:\n",
    "    SADEIOM_yt_text = SADEIOM_f.read()\n",
    "    SADEIOM_yt_text = SADEIOM_yt_text.decode(\"utf-16\")"
   ]
  },
  {
   "cell_type": "code",
   "execution_count": 8,
   "metadata": {},
   "outputs": [
    {
     "data": {
      "text/plain": [
       "\"let's assume you live in a small town where nobody sells bananas in other words zero supply now let's also assume that the people who live there would love to eat bananas in other words there's a decent demand for bananas as we can see there is currently an imbalance people want bananas but there are no sellers Peter understands this and starts selling bananas at the beginning his profits will be huge because lots of people want bananas and he's the only one who has them as time passes however sorrow will notice how well Peter is doing and starts selling bananas yourself this increases the supply of bananas and diminishes Peters profit potential the more people start selling bananas the more supply there will be if too many people end up selling bananas but the demand doesn't increase as well there will be too much supply and some of them will go out of business eventually some kind of a balance tends to be reached\""
      ]
     },
     "execution_count": 8,
     "metadata": {},
     "output_type": "execute_result"
    }
   ],
   "source": [
    "SADEIOM_yt_text"
   ]
  },
  {
   "cell_type": "markdown",
   "metadata": {},
   "source": [
    "Let's compare the lengths of the two pieces of text to show that there is at least some difference."
   ]
  },
  {
   "cell_type": "code",
   "execution_count": 9,
   "metadata": {},
   "outputs": [
    {
     "data": {
      "text/plain": [
       "903"
      ]
     },
     "execution_count": 9,
     "metadata": {},
     "output_type": "execute_result"
    }
   ],
   "source": [
    "len(SADEIOM_text)"
   ]
  },
  {
   "cell_type": "code",
   "execution_count": 10,
   "metadata": {},
   "outputs": [
    {
     "data": {
      "text/plain": [
       "928"
      ]
     },
     "execution_count": 10,
     "metadata": {},
     "output_type": "execute_result"
    }
   ],
   "source": [
    "len(SADEIOM_yt_text)"
   ]
  },
  {
   "cell_type": "markdown",
   "metadata": {},
   "source": [
    "Now, let's see how similar these two pieces are."
   ]
  },
  {
   "cell_type": "code",
   "execution_count": 11,
   "metadata": {},
   "outputs": [],
   "source": [
    "# import the SequenceMatcher module to compare strings\n",
    "from difflib import SequenceMatcher\n",
    "\n",
    "def similar(a, b):\n",
    "    return SequenceMatcher(None, a, b).ratio()"
   ]
  },
  {
   "cell_type": "code",
   "execution_count": 12,
   "metadata": {},
   "outputs": [
    {
     "data": {
      "text/plain": [
       "0.8028399781540142"
      ]
     },
     "execution_count": 12,
     "metadata": {},
     "output_type": "execute_result"
    }
   ],
   "source": [
    "SADEIOM_similarity = similar(SADEIOM_text, SADEIOM_yt_text)\n",
    "SADEIOM_similarity"
   ]
  },
  {
   "cell_type": "markdown",
   "metadata": {},
   "source": [
    "The two texts are about 80% similar to each other. (Now this includes things like whether a letter is capitalized or not and abbreviations such as \"that's\" for \"that is\".) Looks like our SpeechRecognition model is pretty accurate."
   ]
  },
  {
   "cell_type": "markdown",
   "metadata": {},
   "source": [
    "Let's try another audio with a much faster speaking speed."
   ]
  },
  {
   "cell_type": "code",
   "execution_count": 13,
   "metadata": {},
   "outputs": [
    {
     "name": "stdout",
     "output_type": "stream",
     "text": [
      "in a single minute your body produces 122 180 million red blood cells will ask Google 2.4 million questions in 25000000 Coca-Cola products are consumed any of those bottles will end up in a landfill where the World Bank estimates we produced 5 million pounds of garbage 108 human life will be lost in this minute and it out man will lose 96 million sell fortunately 96 million people get divorced\n"
     ]
    }
   ],
   "source": [
    "# get the text\n",
    "with sr.AudioFile(\"data/What_Happens_In_One_Minute_.wav\") as WHIOM_source:\n",
    "    # listen for the data (load audio to memory)\n",
    "    WHIOM_audio_data = r.record(WHIOM_source)\n",
    "    # recognize (convert from speech to text)\n",
    "    WHIOM_text = r.recognize_google(WHIOM_audio_data)\n",
    "    print(WHIOM_text)"
   ]
  },
  {
   "cell_type": "code",
   "execution_count": 14,
   "metadata": {},
   "outputs": [],
   "source": [
    "# get the cc\n",
    "with open('data/What_Happens_In_One_Minute.txt', 'rb') as WHIOM_f:\n",
    "    WHIOM_yt_text = WHIOM_f.read()\n",
    "    WHIOM_yt_text = WHIOM_yt_text.decode(\"utf-16\")"
   ]
  },
  {
   "cell_type": "code",
   "execution_count": 15,
   "metadata": {
    "scrolled": true
   },
   "outputs": [
    {
     "data": {
      "text/plain": [
       "\"In a single minute your body produces 120 to 180 million red blood cells, people ask Google 2.4 million questions, and 25 million Coca-Cola products are consumed. Many of those bottles will end up in a landfill, where the World Bank estimates we produce 5 million pounds of garbage. 108 human lives will be lost in this minute and an adult male will lose 96 million cells. Fortunately, 96 million cells divide, replacing those lost. Speaking of divisions, in the USA, 1.5 people will get divorced, while world-wide, 116 people will get married, 83,300 people have sex, but only 258 babies will be born and a fetus is developing neurons at a rate of 250,000 per minute, so it's no wonder that a computer simulation takes 60 quadrillion bytes to simulate a minute. An average of 1.38 micrometers of rain fall around the world, which is 4.7 billion bathtubs of water every minute and with the storms comes approximately 6,000 bolts of cloud-to-ground lightning hitting the Earth. A 150 pound person expends 1.1 calories of energy per minute while sleeping, while the sun provides us with 83.33 terrawatts of energy. The earth will 1800 kilometers of its 940 million around the sun, moving 1,034 times faster than a cheetah, 70,000 hours of Netfilx are watched, 300 hours are uploaded to YouTube, and you can watch this video and subscribe.\""
      ]
     },
     "execution_count": 15,
     "metadata": {},
     "output_type": "execute_result"
    }
   ],
   "source": [
    "WHIOM_yt_text"
   ]
  },
  {
   "cell_type": "code",
   "execution_count": 16,
   "metadata": {},
   "outputs": [
    {
     "data": {
      "text/plain": [
       "396"
      ]
     },
     "execution_count": 16,
     "metadata": {},
     "output_type": "execute_result"
    }
   ],
   "source": [
    "len(WHIOM_text)"
   ]
  },
  {
   "cell_type": "code",
   "execution_count": 17,
   "metadata": {},
   "outputs": [
    {
     "data": {
      "text/plain": [
       "1336"
      ]
     },
     "execution_count": 17,
     "metadata": {},
     "output_type": "execute_result"
    }
   ],
   "source": [
    "len(WHIOM_yt_text)"
   ]
  },
  {
   "cell_type": "markdown",
   "metadata": {},
   "source": [
    "Here, the closed caption for the audio is 3 times longer than the text we got. After trying different audio files, I found out that the SpeechRecognition model has an upper limit for the text, which is around 400 characters. So, let's cut down the closed caption from youtube so that the contents for two pieces of text are the same. (I tried to cut the audio down to different parts using AudioSegment from Pyhub and get the text separately, but it didn't work well with multiple segments and threw errors on some of them.)"
   ]
  },
  {
   "cell_type": "code",
   "execution_count": 18,
   "metadata": {},
   "outputs": [
    {
     "data": {
      "text/plain": [
       "'In a single minute your body produces 120 to 180 million red blood cells, people ask Google 2.4 million questions, and 25 million Coca-Cola products are consumed. Many of those bottles will end up in a landfill, where the World Bank estimates we produce 5 million pounds of garbage. 108 human lives will be lost in this minute and an adult male will lose 96 million cells. Fortunately, 96 million cells divide, replacing those lost. Speaking of divisions, in the USA, 1.5 people will get divorced'"
      ]
     },
     "execution_count": 18,
     "metadata": {},
     "output_type": "execute_result"
    }
   ],
   "source": [
    "WHIOM_yt_text = WHIOM_yt_text[:496]\n",
    "WHIOM_yt_text"
   ]
  },
  {
   "cell_type": "markdown",
   "metadata": {},
   "source": [
    "Compare the two pieces of text:"
   ]
  },
  {
   "cell_type": "code",
   "execution_count": 19,
   "metadata": {},
   "outputs": [
    {
     "data": {
      "text/plain": [
       "0.773542600896861"
      ]
     },
     "execution_count": 19,
     "metadata": {},
     "output_type": "execute_result"
    }
   ],
   "source": [
    "WHIOM_similarity = similar(WHIOM_text, WHIOM_yt_text)\n",
    "WHIOM_similarity"
   ]
  },
  {
   "cell_type": "markdown",
   "metadata": {},
   "source": [
    "The similarity is a little bit lower than the last one, probably due to the higher speaking speed, but generally, the module is working quite well. "
   ]
  },
  {
   "cell_type": "markdown",
   "metadata": {},
   "source": [
    "Now, let's try a slow rap song with very little background music. (It's a video portfolio of a student for applied to Brown University)"
   ]
  },
  {
   "cell_type": "code",
   "execution_count": 20,
   "metadata": {},
   "outputs": [
    {
     "name": "stdout",
     "output_type": "stream",
     "text": [
      "time shall I hope you like the song I Got lyrics of the bottom just so you can sing along if you start to second-guess is rapkreation know it's how I felt Express beyond my application I've got it I might Bounce Around is I tell you why I belong at Brown is it how I am my mind always moving I overthink way too much it's something I'm improving other guy I love to talk to strangers look at me\n"
     ]
    }
   ],
   "source": [
    "# get the text\n",
    "with sr.AudioFile(\"data/Brown.wav\") as Brown_source:\n",
    "    # listen for the data (load audio to memory)\n",
    "    Brown_audio_data = r.record(Brown_source)\n",
    "    # recognize (convert from speech to text)\n",
    "    Brown_text = r.recognize_google(Brown_audio_data)\n",
    "    print(Brown_text)"
   ]
  },
  {
   "cell_type": "code",
   "execution_count": 21,
   "metadata": {},
   "outputs": [],
   "source": [
    "# get the closed caption\n",
    "with open('data/Brown.txt', 'rb') as Brown_f:\n",
    "    Brown_yt_text = Brown_f.read()\n",
    "    Brown_yt_text = Brown_yt_text.decode(\"utf-16\")"
   ]
  },
  {
   "cell_type": "code",
   "execution_count": 22,
   "metadata": {},
   "outputs": [
    {
     "data": {
      "text/plain": [
       "\"hi I'm sheldon I hope you like this song I've got lyrics at the bottom just so you can sing along if you start to second guess what is rap creation no it's how I self express beyond my application I've got adhd I might bounce around as I tell you why I belong at brown it's just how I am my mind's always moving I over think way too much it's something I'm improving I'm a social guy I love to talk to strangers look at me my middle name is danger but not the hurtful kind the danger of a risk if i stayed in my comfort zone look at all the things i'd miss but that's big picture b let's talk little things like my cute poodles or my social media names i like to run in the clarity it brings and i love uk rap music as odd as that seems at brown though my quirks are okay everyone's unique in their own special way brown itself is unique you offer video submissions and i made a rap you're what i've been missing i could explore every topic that i want and so much more the community at brown is truly amazing all the different types of people in the classes i'd be taking i make songs for school projects as you can probably see and i forgot to mention that i have these two mini me's hey bro i like dressing well and i'm pretty organized so i have a folder for my fits you shouldn't be surprised i'm an entrepreneur a public speaker and on weekends a competitive sleeper wraps the ones with tortillas i also love my stepmom she's from south korea i'm a goofy guy but at times i'm serious like i seriously want to learn during my college experience i've always loved computers to me they're fascinating and at brown cs is the biggest concentration choosing a college can be super tricky but that fear disappears when it comes to the grizzlies i've told you a lot but there's so much more i hope we can learn about each other in these next four\""
      ]
     },
     "execution_count": 22,
     "metadata": {},
     "output_type": "execute_result"
    }
   ],
   "source": [
    "Brown_yt_text"
   ]
  },
  {
   "cell_type": "code",
   "execution_count": 23,
   "metadata": {},
   "outputs": [
    {
     "data": {
      "text/plain": [
       "394"
      ]
     },
     "execution_count": 23,
     "metadata": {},
     "output_type": "execute_result"
    }
   ],
   "source": [
    "len(Brown_text)"
   ]
  },
  {
   "cell_type": "code",
   "execution_count": 24,
   "metadata": {},
   "outputs": [
    {
     "data": {
      "text/plain": [
       "1844"
      ]
     },
     "execution_count": 24,
     "metadata": {},
     "output_type": "execute_result"
    }
   ],
   "source": [
    "len(Brown_yt_text)"
   ]
  },
  {
   "cell_type": "code",
   "execution_count": 25,
   "metadata": {},
   "outputs": [
    {
     "data": {
      "text/plain": [
       "\"hi I'm sheldon I hope you like this song I've got lyrics at the bottom just so you can sing along if you start to second guess what is rap creation no it's how I self express beyond my application I've got adhd I might bounce around as I tell you why I belong at brown it's just how I am my mind's always moving I over think way too much it's something I'm improving I'm a social guy I love to talk to strangers look at me\""
      ]
     },
     "execution_count": 25,
     "metadata": {},
     "output_type": "execute_result"
    }
   ],
   "source": [
    "# Cut down the content for the closed caption\n",
    "Brown_yt_text = Brown_yt_text[:422]\n",
    "Brown_yt_text"
   ]
  },
  {
   "cell_type": "code",
   "execution_count": 26,
   "metadata": {},
   "outputs": [
    {
     "data": {
      "text/plain": [
       "0.08088235294117647"
      ]
     },
     "execution_count": 26,
     "metadata": {},
     "output_type": "execute_result"
    }
   ],
   "source": [
    "# the similarity\n",
    "Brown_similarity = similar(Brown_text, Brown_yt_text)\n",
    "Brown_similarity"
   ]
  },
  {
   "cell_type": "markdown",
   "metadata": {},
   "source": [
    "For this audio, we get a similarity of less than 10%. This might due to the interference of a little background music and the fact that the tone and the beat of the music made the words and sentences sound a bit different compared with how we ususally pronounce them. "
   ]
  },
  {
   "cell_type": "markdown",
   "metadata": {},
   "source": [
    "The SpeechRecognition does not work well with music! (even if it's with a little background music or an approximately normal tone)"
   ]
  },
  {
   "cell_type": "markdown",
   "metadata": {},
   "source": [
    "Just out of curiosity, let's see if the SpeechRecognition recognizes fast rap music (both audio files are around 1 min)"
   ]
  },
  {
   "cell_type": "code",
   "execution_count": 27,
   "metadata": {},
   "outputs": [
    {
     "name": "stdout",
     "output_type": "stream",
     "text": [
      "it ain't nothing I want more\n"
     ]
    }
   ],
   "source": [
    "with sr.AudioFile(\"data/Punching_The_Clock.wav\") as PTC_source:\n",
    "    # listen for the data (load audio to memory)\n",
    "    PTC_audio_data = r.record(PTC_source)\n",
    "    # recognize (convert from speech to text)\n",
    "    PTC_text = r.recognize_google(PTC_audio_data)\n",
    "    print(PTC_text)"
   ]
  },
  {
   "cell_type": "code",
   "execution_count": 28,
   "metadata": {},
   "outputs": [
    {
     "name": "stdout",
     "output_type": "stream",
     "text": [
      "yo-yo\n"
     ]
    }
   ],
   "source": [
    "with sr.AudioFile(\"data/She_Has_To_Fake_A_Smile.wav\") as SHTFAS_source:\n",
    "    # listen for the data (load audio to memory)\n",
    "    SHTFAS_audio_data = r.record(SHTFAS_source)\n",
    "    # recognize (convert from speech to text)\n",
    "    SHTFAS_text = r.recognize_google(SHTFAS_audio_data)\n",
    "    print(SHTFAS_text)"
   ]
  },
  {
   "cell_type": "markdown",
   "metadata": {},
   "source": [
    "It didn't even catch more than one sentence of the music! Apparently, the model doesn't work with rap music because of its speed, tone, and rhythm."
   ]
  },
  {
   "cell_type": "markdown",
   "metadata": {},
   "source": [
    "In conclusion, let's just see how the SpeechRecognition model did:"
   ]
  },
  {
   "cell_type": "code",
   "execution_count": 29,
   "metadata": {},
   "outputs": [
    {
     "data": {
      "text/html": [
       "<div>\n",
       "<style scoped>\n",
       "    .dataframe tbody tr th:only-of-type {\n",
       "        vertical-align: middle;\n",
       "    }\n",
       "\n",
       "    .dataframe tbody tr th {\n",
       "        vertical-align: top;\n",
       "    }\n",
       "\n",
       "    .dataframe thead th {\n",
       "        text-align: right;\n",
       "    }\n",
       "</style>\n",
       "<table border=\"1\" class=\"dataframe\">\n",
       "  <thead>\n",
       "    <tr style=\"text-align: right;\">\n",
       "      <th></th>\n",
       "      <th>Similarity</th>\n",
       "      <th>Type</th>\n",
       "    </tr>\n",
       "  </thead>\n",
       "  <tbody>\n",
       "    <tr>\n",
       "      <th>Supply_and_Demand_Explained_in_One_Minute</th>\n",
       "      <td>0.802840</td>\n",
       "      <td>Standard</td>\n",
       "    </tr>\n",
       "    <tr>\n",
       "      <th>What_Happens_In_One_Minute</th>\n",
       "      <td>0.773543</td>\n",
       "      <td>Faster</td>\n",
       "    </tr>\n",
       "    <tr>\n",
       "      <th>Brown_Video_Portfolio</th>\n",
       "      <td>0.080882</td>\n",
       "      <td>Slow_Rap</td>\n",
       "    </tr>\n",
       "    <tr>\n",
       "      <th>Punching_The_Clock</th>\n",
       "      <td>0.000000</td>\n",
       "      <td>Fast_Rap</td>\n",
       "    </tr>\n",
       "    <tr>\n",
       "      <th>She_Has_To_Fake_A_Smile</th>\n",
       "      <td>0.000000</td>\n",
       "      <td>Fast_Rap</td>\n",
       "    </tr>\n",
       "  </tbody>\n",
       "</table>\n",
       "</div>"
      ],
      "text/plain": [
       "                                           Similarity      Type\n",
       "Supply_and_Demand_Explained_in_One_Minute    0.802840  Standard\n",
       "What_Happens_In_One_Minute                   0.773543    Faster\n",
       "Brown_Video_Portfolio                        0.080882  Slow_Rap\n",
       "Punching_The_Clock                           0.000000  Fast_Rap\n",
       "She_Has_To_Fake_A_Smile                      0.000000  Fast_Rap"
      ]
     },
     "execution_count": 29,
     "metadata": {},
     "output_type": "execute_result"
    }
   ],
   "source": [
    "results = pd.DataFrame({\n",
    "   'Similarity':[SADEIOM_similarity, WHIOM_similarity, Brown_similarity, 0, 0],\n",
    "    'Type': ['Standard', 'Faster', 'Slow_Rap', 'Fast_Rap', 'Fast_Rap'],\n",
    "}, index=['Supply_and_Demand_Explained_in_One_Minute', 'What_Happens_In_One_Minute', 'Brown_Video_Portfolio', 'Punching_The_Clock', 'She_Has_To_Fake_A_Smile'])\n",
    "results"
   ]
  },
  {
   "cell_type": "code",
   "execution_count": 30,
   "metadata": {},
   "outputs": [
    {
     "data": {
      "image/png": "[encoded data removed]",
      "text/plain": [
       "<Figure size 432x288 with 1 Axes>"
      ]
     },
     "metadata": {
      "needs_background": "light"
     },
     "output_type": "display_data"
    }
   ],
   "source": [
    "mpl.bar(results.Type, results.Similarity);"
   ]
  },
  {
   "cell_type": "markdown",
   "metadata": {},
   "source": [
    "Throughout the project, I learned a lot about extracting text and processing audio files!"
   ]
  },
  {
   "cell_type": "code",
   "execution_count": null,
   "metadata": {},
   "outputs": [],
   "source": []
  }
 ],
 "metadata": {
  "kernelspec": {
   "display_name": "Python 3 (ipykernel)",
   "language": "python",
   "name": "python3"
  },
  "language_info": {
   "codemirror_mode": {
    "name": "ipython",
    "version": 3
   },
   "file_extension": ".py",
   "mimetype": "text/x-python",
   "name": "python",
   "nbconvert_exporter": "python",
   "pygments_lexer": "ipython3",
   "version": "3.9.5"
  }
 },
 "nbformat": 4,
 "nbformat_minor": 1
}
