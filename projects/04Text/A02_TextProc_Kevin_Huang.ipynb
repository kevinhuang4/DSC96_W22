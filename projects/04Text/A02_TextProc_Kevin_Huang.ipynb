{
 "cells": [
  {
   "cell_type": "markdown",
   "metadata": {},
   "source": [
    "# Assignment 02\n",
    "\n",
    "This is the Text Processing project.\n",
    "\n",
    "See Canvas for its deadline. "
   ]
  },
  {
   "cell_type": "code",
   "execution_count": 1,
   "metadata": {},
   "outputs": [],
   "source": [
    "# import packages\n",
    "import numpy as np\n",
    "import pandas as pd\n",
    "from nltk.sentiment.vader import SentimentIntensityAnalyzer\n",
    "import requests\n",
    "import re\n",
    "from urllib.parse import urlparse\n",
    "import urllib.robotparser\n",
    "from bs4 import BeautifulSoup\n",
    "import matplotlib.pyplot as plt\n",
    "\n",
    "plt.style.use('fivethirtyeight')\n",
    "\n",
    "# This code checks the robots.txt file\n",
    "def canFetch(url):\n",
    "\n",
    "    parsed_uri = urlparse(url)\n",
    "    domain = '{uri.scheme}://{uri.netloc}/'.format(uri=parsed_uri)\n",
    "\n",
    "    rp = urllib.robotparser.RobotFileParser()\n",
    "    rp.set_url(domain + \"/robots.txt\")\n",
    "    try:\n",
    "        rp.read()\n",
    "        canFetchBool = rp.can_fetch(\"*\", url)\n",
    "    except:\n",
    "        canFetchBool = None\n",
    "    \n",
    "    return canFetchBool"
   ]
  },
  {
   "cell_type": "markdown",
   "metadata": {},
   "source": [
    "## Assignment 02 examples\n",
    "\n",
    "#### Example 0 of project for assignment 02: Text processing\n",
    "\n",
    "1) perform the analysis of data/ira.csv (similarly to what done in processing_text.ipynb, including most frequent words etc.)\n",
    "\n",
    "2) perform sentiment analysis on this dataset\n",
    "\n",
    "3) detail comments, explain step by step what is happening, and try to write down a paragraph or two at the end discussing what you figured out\n",
    "\n",
    "************\n",
    "#### Example 1 of project for assignment 02: Text processing\n",
    "\n",
    "1) Choose a short list of famous people (at least 2) that you want to compare and look for their Wikipedia page, e.g., \n",
    "urls = []\n",
    "urls.append(\"https://en.wikipedia.org/wiki/LeBron_James\")\n",
    "urls.append(\"https://en.wikipedia.org/wiki/Michael_Jordan\")\n",
    "urls.append(\"https://en.wikipedia.org/wiki/Karl_Malone\")\n",
    "\n",
    "2) think about an interesting question you can answer. E.g., \n",
    "- in which of the three pages the word \"record\" appears more often? (we know how to search!)\n",
    "- which is the most positive page? (we know how to do sentiment analysis!)\n",
    "- in which year was each player born? (more complicated, but we can do it)\n",
    "\n",
    "3) make sure you can web scrape each page\n",
    "\n",
    "4) write the code to web scrape and do your analysis\n",
    "\n",
    "5) prepare 1 (one) .ipynb , in which you have code, results and (most importantly) you describe what you are looking for and how you do it!\n",
    "\n",
    "************\n",
    "#### Example 2 of project for assignment 02: Text processing\n",
    "\n",
    "1) check the books you like from https://www.gutenberg.org/browse/scores/top\n",
    "\n",
    "2) you have an example in data/book1.txt ; choose 1 book (or a few of them)\n",
    "\n",
    "3) think about an interesting question you can answer. E.g., \n",
    "- which are the most common words? (we know how to do it!)\n",
    "- is there a particular word you have in mind? (easy to check)\n",
    "- how many different words do we have?\n",
    "\n",
    "4) can we download it automatically or better to do it manually? *CHECK BEFORE DOING IT!*\n",
    "- in case we can not do it automatically, let's respect it! we can download them manually and save them\n",
    "\n",
    "5) let's analyze the book, we have all the tools from the notebooks processing_text and RegularExpressions! \n"
   ]
  },
  {
   "cell_type": "markdown",
   "metadata": {},
   "source": [
    "# Project title: \n",
    "\n",
    "your comments / presentation\n"
   ]
  },
  {
   "cell_type": "code",
   "execution_count": 2,
   "metadata": {},
   "outputs": [],
   "source": [
    "# Some questions that I'm interested in about The Great Gatsby:\n",
    "# Is the most frequently appeared character Gatsby or Nick?\n",
    "# What about the frequencies of other character names?\n",
    "# Can we use the frequencies of names for each chapter to guess where the climax of the book occurs?\n",
    "# Which characters appear in the climax of the book?\n",
    "# What about the sentiment of each chapter? (My guess is neutral)\n",
    "# Can we compare the sentiment of the chapter where the climax occurs with the sentiments of other chapters?\n",
    "# What about the famous symbolism \"Green Light\"? Where does that occur?"
   ]
  },
  {
   "cell_type": "code",
   "execution_count": 3,
   "metadata": {},
   "outputs": [],
   "source": [
    "# your code"
   ]
  },
  {
   "cell_type": "code",
   "execution_count": 4,
   "metadata": {},
   "outputs": [],
   "source": [
    "# read the txt file of The Great Gatsby\n",
    "tgg_text = open('data/TGG.txt').read()"
   ]
  },
  {
   "cell_type": "code",
   "execution_count": 5,
   "metadata": {},
   "outputs": [
    {
     "data": {
      "text/plain": [
       "'The Project Gutenberg eBook of The Great Gatsby, by F. Scott Fitzgerald\\n\\nThis eBook is for the use of anyone anywhere in the United States and\\nmost other parts of the world at no cost and with almost no restrictions\\nwhatsoever. You may copy it, give it away or re-use it under the terms\\nof the Project Gutenberg License included with this eBook or online at\\nwww.gutenberg.org. If you are not located in the United States, you\\nwill have to check the laws of the country where you are located before\\nusing this eBook.\\n\\nTitle: The Great Gatsby\\n\\nAuthor: F. Scott Fitzgerald\\n\\nRelease Date: January 17, 2021 [eBook #64317]\\n[Most recently updated: January 24 2021]\\n\\nLanguage: English\\n\\n\\nProduced by: Alex Cabal for the Standard Ebooks project, based on a\\n             transcription produced for Project Gutenberg Australia.\\n\\n*** START OF THE PROJECT GUTENBERG EBOOK THE GREAT GATSBY ***\\n\\n\\n\\t\\t\\t   The Great Gatsby\\n\\t\\t\\t\\t  by\\n\\t\\t\\t F. Scott Fitzgerald\\n\\n\\n                           Table of Contents\\n\\nI\\nII\\nIII\\nIV\\nV\\nVI\\nVII\\nVIII\\nIX\\n\\n\\n                              Once again\\n                                  to\\n                                 Zelda\\n\\n  Then wear the gold hat, if that will move her;\\n  If you can bounce high, bounce for her too,\\n  Till she cry “Lover, gold-hatted, high-bouncing lover,\\n  I must have you!”\\n\\n  Thomas Parke d’Invilliers\\n\\n\\n                                  CHAPTER I\\n\\nIn my younger and more vulnerable years my father gave me some advice\\nthat I’ve been turning over in my mind ever since.\\n\\n“Whenever you feel like criticizing anyone,” he told me, “just\\nremember that all the people in this world haven’t had the advantages\\nthat you’ve had.”\\n\\nHe didn’t say any more, but we’ve always been unusually communicative\\nin a reserved way, and I understood that he meant a great deal more\\nthan that. In consequence, I’m inclined to reserve all judgements, a\\nhabit that has opened up many curious natures to me and also made me\\nthe victim of not a few veteran bores. The abnormal mind is quick to\\ndetect and attach itself to this quality when it appears in a normal\\nperson, and so it came about that in college I was unjustly accused of\\nbeing a politician, because I was privy to the secret griefs of wild,\\nunknown men. Most of the confidences were unsought—frequently I have\\nfeigned sleep, preoccupation, or a hostile levity when I realized by\\nsome unmistakable sign that an intimate revelation was quivering on\\nthe horizon; for the intimate revelations of young men, or at least\\nthe terms in which they express them, are usually plagiaristic and\\nmarred by obvious suppressions. Reserving judgements is a matter of\\ninfinite hope. I am still a little afraid of missing something if I\\nforget that, as my father snobbishly suggested, and I snobbishly\\nrepeat, a sense of the fundamental decencies is parcelled out\\nunequally at birth.\\n\\nAnd, after boasting this way of my tolerance, I come to the admission\\nthat it has a limit. Conduct may be founded on the hard rock or the\\nwet marshes, but after a c'"
      ]
     },
     "execution_count": 5,
     "metadata": {},
     "output_type": "execute_result"
    }
   ],
   "source": [
    "# The first 3000 characters\n",
    "tgg_text[:3000]"
   ]
  },
  {
   "cell_type": "code",
   "execution_count": 6,
   "metadata": {},
   "outputs": [
    {
     "name": "stdout",
     "output_type": "stream",
     "text": [
      "The Project Gutenberg eBook of The Great Gatsby, by F. Scott Fitzgerald\n",
      "\n",
      "This eBook is for the use of anyone anywhere in the United States and\n",
      "most other parts of the world at no cost and with almost no restrictions\n",
      "whatsoever. You may copy it, give it away or re-use it under the terms\n",
      "of the Project Gutenberg License included with this eBook or online at\n",
      "www.gutenberg.org. If you are not located in the United States, you\n",
      "will have to check the laws of the country where you are located before\n",
      "using this eBook.\n",
      "\n",
      "Title: The Great Gatsby\n",
      "\n",
      "Author: F. Scott Fitzgerald\n",
      "\n",
      "Release Date: January 17, 2021 [eBook #64317]\n",
      "[Most recently updated: January 24 2021]\n",
      "\n",
      "Language: English\n",
      "\n",
      "\n",
      "Produced by: Alex Cabal for the Standard Ebooks project, based on a\n",
      "             transcription produced for Project Gutenberg Australia.\n",
      "\n",
      "*** START OF THE PROJECT GUTENBERG EBOOK THE GREAT GATSBY ***\n",
      "\n",
      "\n",
      "\t\t\t   The Great Gatsby\n",
      "\t\t\t\t  by\n",
      "\t\t\t F. Scott Fitzgerald\n",
      "\n",
      "\n",
      "                           Table of Contents\n",
      "\n",
      "I\n",
      "II\n",
      "III\n",
      "IV\n",
      "V\n",
      "VI\n",
      "VII\n",
      "VIII\n",
      "IX\n",
      "\n",
      "\n",
      "                              Once again\n",
      "                                  to\n",
      "                                 Zelda\n",
      "\n",
      "  Then wear the gold hat, if that will move her;\n",
      "  If you can bounce high, bounce for her too,\n",
      "  Till she cry “Lover, gold-hatted, high-bouncing lover,\n",
      "  I must have you!”\n",
      "\n",
      "  Thomas Parke d’Invilliers\n",
      "\n",
      "\n",
      "                                  CHAPTER I\n",
      "\n",
      "In my younger and more vulnerable years my father gave me some advice\n",
      "that I’ve been turning over in my mind ever since.\n",
      "\n",
      "“Whenever you feel like criticizing anyone,” he told me, “just\n",
      "remember that all the people in this world haven’t had the advantages\n",
      "that you’ve had.”\n",
      "\n",
      "He didn’t say any more, but we’ve always been unusually communicative\n",
      "in a reserved way, and I understood that he meant a great deal more\n",
      "than that. In consequence, I’m inclined to reserve all judgements, a\n",
      "habit that has opened up many curious natures to me and also made me\n",
      "the victim of not a few veteran bores. The abnormal mind is quick to\n",
      "detect and attach itself to this quality when it appears in a normal\n",
      "person, and so it came about that in college I was unjustly accused of\n",
      "being a politician, because I was privy to the secret griefs of wild,\n",
      "unknown men. Most of the confidences were unsought—frequently I have\n",
      "feigned sleep, preoccupation, or a hostile levity when I realized by\n",
      "some unmistakable sign that an intimate revelation was quivering on\n",
      "the horizon; for the intimate revelations of young men, or at least\n",
      "the terms in which they express them, are usually plagiaristic and\n",
      "marred by obvious suppressions. Reserving judgements is a matter of\n",
      "infinite hope. I am still a little afraid of missing something if I\n",
      "forget that, as my father snobbishly suggested, and I snobbishly\n",
      "repeat, a sense of the fundamental decencies is parcelled out\n",
      "unequally at birth.\n",
      "\n",
      "And, after boasting this way of my tolerance, I come to the admission\n",
      "that it has a limit. Conduct may be founded on the hard rock or the\n",
      "wet marshes, but after a c\n"
     ]
    }
   ],
   "source": [
    "print(tgg_text[:3000])"
   ]
  },
  {
   "cell_type": "code",
   "execution_count": 7,
   "metadata": {},
   "outputs": [
    {
     "data": {
      "text/plain": [
       "'The Project Gutenberg eBook of The Great Gatsby, by F. Scott Fitzgerald\\n\\nThis eBook is for the use of anyone anywhere in the United States and\\nmost other parts of the world at no cost and with almost no restrictions\\nwhatsoever. You may copy it, give it away or re-use it under the terms\\nof the Project Gutenberg License included with this eBook or online at\\nwww.gutenberg.org. If you are not located in the United States, you\\nwill have to check the laws of the country where you are located before\\nusing this eBook.\\n\\nTitle: The Great Gatsby\\n\\nAuthor: F. Scott Fitzgerald\\n\\nRelease Date: January 17, 2021 [eBook #64317]\\n[Most recently updated: January 24 2021]\\n\\nLanguage: English\\n\\n\\nProduced by: Alex Cabal for the Standard Ebooks project, based on a\\n             transcription produced for Project Gutenberg Australia.\\n\\n*** START OF THE PROJECT GUTENBERG EBOOK THE GREAT GATSBY ***\\n\\n\\n\\t\\t\\t   The Great Gatsby\\n\\t\\t\\t\\t  by\\n\\t\\t\\t F. Scott Fitzgerald\\n\\n\\n                           Table of Contents\\n\\nI\\nII\\nIII\\nIV\\nV\\nVI\\nVII\\nVIII\\nIX\\n\\n\\n                              Once again\\n                                  to\\n                                 Zelda\\n\\n  Then wear the gold hat, if that will move her;\\n  If you can bounce high, bounce for her too,\\n  Till she cry “Lover, gold-hatted, high-bouncing lover,\\n  I must have you!”\\n\\n  Thomas Parke d’Invilliers\\n\\n\\n                                  '"
      ]
     },
     "execution_count": 7,
     "metadata": {},
     "output_type": "execute_result"
    }
   ],
   "source": [
    "# split the book into chapters\n",
    "chapters = tgg_text.split('CHAPTER')\n",
    "chapters[0]"
   ]
  },
  {
   "cell_type": "code",
   "execution_count": 8,
   "metadata": {},
   "outputs": [
    {
     "data": {
      "text/plain": [
       "'The Project Gutenberg eBook of The Great Gatsby, by F. Scott Fitzgerald  This eBook is for the use of anyone anywhere in the United States and most other parts of the world at no cost and with almost no restrictions whatsoever. You may copy it, give it away or re-use it under the terms of the Project Gutenberg License included with this eBook or online at www.gutenberg.org. If you are not located in the United States, you will have to check the laws of the country where you are located before using this eBook.  Title: The Great Gatsby  Author: F. Scott Fitzgerald  Release Date: January 17, 2021 [eBook #64317] [Most recently updated: January 24 2021]  Language: English   Produced by: Alex Cabal for the Standard Ebooks project, based on a              transcription produced for Project Gutenberg Australia.  *** START OF THE PROJECT GUTENBERG EBOOK THE GREAT GATSBY ***         The Great Gatsby       by     F. Scott Fitzgerald                              Table of Contents  I II III IV V VI VII VIII IX                                 Once again                                   to                                  Zelda    Then wear the gold hat, if that will move her;   If you can bounce high, bounce for her too,   Till she cry “Lover, gold-hatted, high-bouncing lover,   I must have you!”    Thomas Parke d’Invilliers                                     '"
      ]
     },
     "execution_count": 8,
     "metadata": {},
     "output_type": "execute_result"
    }
   ],
   "source": [
    "# replace all the special characters\n",
    "_chapters = []\n",
    "for chapter in chapters:\n",
    "    new_chapter = chapter.replace('\\n', ' ').replace('\\r', '').replace('\\t', ' ')\n",
    "    _chapters.append(new_chapter)\n",
    "_chapters[0]"
   ]
  },
  {
   "cell_type": "code",
   "execution_count": 9,
   "metadata": {},
   "outputs": [
    {
     "data": {
      "text/html": [
       "<div>\n",
       "<style scoped>\n",
       "    .dataframe tbody tr th:only-of-type {\n",
       "        vertical-align: middle;\n",
       "    }\n",
       "\n",
       "    .dataframe tbody tr th {\n",
       "        vertical-align: top;\n",
       "    }\n",
       "\n",
       "    .dataframe thead th {\n",
       "        text-align: right;\n",
       "    }\n",
       "</style>\n",
       "<table border=\"1\" class=\"dataframe\">\n",
       "  <thead>\n",
       "    <tr style=\"text-align: right;\">\n",
       "      <th></th>\n",
       "      <th>chapters</th>\n",
       "    </tr>\n",
       "  </thead>\n",
       "  <tbody>\n",
       "    <tr>\n",
       "      <th>0</th>\n",
       "      <td>The Project Gutenberg eBook of The Great Gatsb...</td>\n",
       "    </tr>\n",
       "    <tr>\n",
       "      <th>1</th>\n",
       "      <td>I  In my younger and more vulnerable years my...</td>\n",
       "    </tr>\n",
       "    <tr>\n",
       "      <th>2</th>\n",
       "      <td>II  About halfway between West Egg and New Yo...</td>\n",
       "    </tr>\n",
       "    <tr>\n",
       "      <th>3</th>\n",
       "      <td>III  There was music from my neighbour’s hous...</td>\n",
       "    </tr>\n",
       "    <tr>\n",
       "      <th>4</th>\n",
       "      <td>IV  On Sunday morning while church bells rang...</td>\n",
       "    </tr>\n",
       "    <tr>\n",
       "      <th>5</th>\n",
       "      <td>V  When I came home to West Egg that night I ...</td>\n",
       "    </tr>\n",
       "    <tr>\n",
       "      <th>6</th>\n",
       "      <td>VI  About this time an ambitious young report...</td>\n",
       "    </tr>\n",
       "    <tr>\n",
       "      <th>7</th>\n",
       "      <td>VII  It was when curiosity about Gatsby was a...</td>\n",
       "    </tr>\n",
       "    <tr>\n",
       "      <th>8</th>\n",
       "      <td>VIII  I couldn’t sleep all night; a foghorn w...</td>\n",
       "    </tr>\n",
       "    <tr>\n",
       "      <th>9</th>\n",
       "      <td>IX  After two years I remember the rest of th...</td>\n",
       "    </tr>\n",
       "  </tbody>\n",
       "</table>\n",
       "</div>"
      ],
      "text/plain": [
       "                                            chapters\n",
       "0  The Project Gutenberg eBook of The Great Gatsb...\n",
       "1   I  In my younger and more vulnerable years my...\n",
       "2   II  About halfway between West Egg and New Yo...\n",
       "3   III  There was music from my neighbour’s hous...\n",
       "4   IV  On Sunday morning while church bells rang...\n",
       "5   V  When I came home to West Egg that night I ...\n",
       "6   VI  About this time an ambitious young report...\n",
       "7   VII  It was when curiosity about Gatsby was a...\n",
       "8   VIII  I couldn’t sleep all night; a foghorn w...\n",
       "9   IX  After two years I remember the rest of th..."
      ]
     },
     "execution_count": 9,
     "metadata": {},
     "output_type": "execute_result"
    }
   ],
   "source": [
    "# show the chapters in a data frame\n",
    "# chapter 0 is not in the main content of the book\n",
    "pd.DataFrame().assign(chapters=_chapters)"
   ]
  },
  {
   "cell_type": "code",
   "execution_count": 10,
   "metadata": {},
   "outputs": [
    {
     "data": {
      "text/html": [
       "<div>\n",
       "<style scoped>\n",
       "    .dataframe tbody tr th:only-of-type {\n",
       "        vertical-align: middle;\n",
       "    }\n",
       "\n",
       "    .dataframe tbody tr th {\n",
       "        vertical-align: top;\n",
       "    }\n",
       "\n",
       "    .dataframe thead th {\n",
       "        text-align: right;\n",
       "    }\n",
       "</style>\n",
       "<table border=\"1\" class=\"dataframe\">\n",
       "  <thead>\n",
       "    <tr style=\"text-align: right;\">\n",
       "      <th></th>\n",
       "      <th>Gatsby</th>\n",
       "      <th>Daisy</th>\n",
       "      <th>Nick</th>\n",
       "      <th>Myrtle</th>\n",
       "      <th>Tom</th>\n",
       "    </tr>\n",
       "  </thead>\n",
       "  <tbody>\n",
       "    <tr>\n",
       "      <th>0</th>\n",
       "      <td>3</td>\n",
       "      <td>0</td>\n",
       "      <td>1</td>\n",
       "      <td>0</td>\n",
       "      <td>0</td>\n",
       "    </tr>\n",
       "    <tr>\n",
       "      <th>1</th>\n",
       "      <td>12</td>\n",
       "      <td>30</td>\n",
       "      <td>117</td>\n",
       "      <td>0</td>\n",
       "      <td>33</td>\n",
       "    </tr>\n",
       "    <tr>\n",
       "      <th>2</th>\n",
       "      <td>1</td>\n",
       "      <td>6</td>\n",
       "      <td>77</td>\n",
       "      <td>15</td>\n",
       "      <td>30</td>\n",
       "    </tr>\n",
       "    <tr>\n",
       "      <th>3</th>\n",
       "      <td>28</td>\n",
       "      <td>1</td>\n",
       "      <td>105</td>\n",
       "      <td>0</td>\n",
       "      <td>0</td>\n",
       "    </tr>\n",
       "    <tr>\n",
       "      <th>4</th>\n",
       "      <td>38</td>\n",
       "      <td>15</td>\n",
       "      <td>109</td>\n",
       "      <td>0</td>\n",
       "      <td>10</td>\n",
       "    </tr>\n",
       "    <tr>\n",
       "      <th>5</th>\n",
       "      <td>36</td>\n",
       "      <td>26</td>\n",
       "      <td>75</td>\n",
       "      <td>0</td>\n",
       "      <td>3</td>\n",
       "    </tr>\n",
       "    <tr>\n",
       "      <th>6</th>\n",
       "      <td>37</td>\n",
       "      <td>19</td>\n",
       "      <td>45</td>\n",
       "      <td>0</td>\n",
       "      <td>21</td>\n",
       "    </tr>\n",
       "    <tr>\n",
       "      <th>7</th>\n",
       "      <td>63</td>\n",
       "      <td>61</td>\n",
       "      <td>133</td>\n",
       "      <td>5</td>\n",
       "      <td>87</td>\n",
       "    </tr>\n",
       "    <tr>\n",
       "      <th>8</th>\n",
       "      <td>21</td>\n",
       "      <td>19</td>\n",
       "      <td>52</td>\n",
       "      <td>2</td>\n",
       "      <td>3</td>\n",
       "    </tr>\n",
       "    <tr>\n",
       "      <th>9</th>\n",
       "      <td>27</td>\n",
       "      <td>9</td>\n",
       "      <td>141</td>\n",
       "      <td>1</td>\n",
       "      <td>5</td>\n",
       "    </tr>\n",
       "  </tbody>\n",
       "</table>\n",
       "</div>"
      ],
      "text/plain": [
       "   Gatsby  Daisy  Nick  Myrtle  Tom\n",
       "0       3      0     1       0    0\n",
       "1      12     30   117       0   33\n",
       "2       1      6    77      15   30\n",
       "3      28      1   105       0    0\n",
       "4      38     15   109       0   10\n",
       "5      36     26    75       0    3\n",
       "6      37     19    45       0   21\n",
       "7      63     61   133       5   87\n",
       "8      21     19    52       2    3\n",
       "9      27      9   141       1    5"
      ]
     },
     "execution_count": 10,
     "metadata": {},
     "output_type": "execute_result"
    }
   ],
   "source": [
    "# The number of times each main character's name appears in each chapter\n",
    "# Gatsby for Jay Gatsby\n",
    "# Daisy for Daisy Buchanan\n",
    "# Nick and I (first-person narrative) for Nick Carraway\n",
    "# Myrtle for Myrtle Wilson\n",
    "# Tom for Tom Buchanan\n",
    "counts = pd.DataFrame().assign(\n",
    "    Gatsby=np.char.count(_chapters, 'Gatsby'),\n",
    "    Daisy=np.char.count(_chapters, 'Daisy'),\n",
    "    Nick=np.char.count(_chapters, 'Nick') + np.char.count(chapters, ' I '),\n",
    "    Myrtle=np.char.count(_chapters, 'Myrtle'),\n",
    "    Tom=np.char.count(_chapters, 'Tom')\n",
    ")\n",
    "counts"
   ]
  },
  {
   "cell_type": "code",
   "execution_count": 11,
   "metadata": {},
   "outputs": [],
   "source": [
    "# As we can see, the most frequently appeared character name is Nick followed by Gatsby\n",
    "    # This is not surprising because the book is written using Nick's narrative (so a lot of 'I')\n",
    "# If we look closely, for the 4 main characters, Gatsby, Daisy, Nick, and Tom,\n",
    "    # The highest frequencies for all of them (except for Nick) occur in chapter 7\n",
    "    # Thus, I guess chapter 7 is the climax of the book (actually it is, when 4 of them got into a fight)\n",
    "# Nick's name ('Nick' and 'I') has unusually high frequencies in Chapter 1 and 9,\n",
    "    # corresponding to the introduction and conclusion of the book\n",
    "# Myrtle's name first occurs in chapter 2, then from chapter 3 to 6, it's not mentioned.\n",
    "    # Then, when it comes to the climax and the end, Myrtle's name appears again\n",
    "    # Something tells me that Myrtle is not a main character but plays an important role in the climax\n",
    "    # (Actually, Myrtle is the mistress of Tom and is killed by Daisy when she drives her and Gatsby back in the climax)\n",
    "# The appearances of Tom are also intermittent with an unusually high one in chapter 7"
   ]
  },
  {
   "cell_type": "code",
   "execution_count": 12,
   "metadata": {},
   "outputs": [],
   "source": [
    "# We can also view the accumulated frequencies"
   ]
  },
  {
   "cell_type": "code",
   "execution_count": 13,
   "metadata": {},
   "outputs": [
    {
     "data": {
      "image/png": "[encoded data removed]",
      "text/plain": [
       "<Figure size 432x288 with 1 Axes>"
      ]
     },
     "metadata": {},
     "output_type": "display_data"
    }
   ],
   "source": [
    "pd.DataFrame().assign(\n",
    "    Gatsby=np.cumsum(counts.get('Gatsby')),\n",
    "    Daisy=np.cumsum(counts.get('Daisy')),\n",
    "#     Nick=np.cumsum(counts.get('Nick')),\n",
    "    Myrtle=np.cumsum(counts.get('Myrtle')),\n",
    "    Tom=np.cumsum(counts.get('Tom')),\n",
    "    Chapter=np.arange(0, 10, 1),\n",
    ").plot(x='Chapter')\n",
    "\n",
    "plt.title('Cumulative Number of Times Each Name Appears', y=1.08);"
   ]
  },
  {
   "cell_type": "code",
   "execution_count": 14,
   "metadata": {},
   "outputs": [],
   "source": [
    "# Notice the sudden increase in frequencies from chapter 6 to chapter 7 (climax)"
   ]
  },
  {
   "cell_type": "code",
   "execution_count": 15,
   "metadata": {},
   "outputs": [
    {
     "name": "stderr",
     "output_type": "stream",
     "text": [
      "[nltk_data] Downloading package vader_lexicon to\n",
      "[nltk_data]     /home/zih020/nltk_data...\n",
      "[nltk_data]   Package vader_lexicon is already up-to-date!\n"
     ]
    }
   ],
   "source": [
    "# Prepare for the sentiment analysis\n",
    "import nltk\n",
    "nltk.download('vader_lexicon')\n",
    "sid = SentimentIntensityAnalyzer()"
   ]
  },
  {
   "cell_type": "code",
   "execution_count": 16,
   "metadata": {},
   "outputs": [
    {
     "data": {
      "text/plain": [
       "[{'neg': 0.034, 'neu': 0.846, 'pos': 0.121, 'compound': 0.9695},\n",
       " {'neg': 0.081, 'neu': 0.803, 'pos': 0.116, 'compound': 0.9998},\n",
       " {'neg': 0.075, 'neu': 0.847, 'pos': 0.078, 'compound': 0.9884},\n",
       " {'neg': 0.072, 'neu': 0.8, 'pos': 0.128, 'compound': 0.9999},\n",
       " {'neg': 0.065, 'neu': 0.831, 'pos': 0.104, 'compound': 0.9997},\n",
       " {'neg': 0.078, 'neu': 0.816, 'pos': 0.106, 'compound': 0.9994},\n",
       " {'neg': 0.07, 'neu': 0.821, 'pos': 0.109, 'compound': 0.9996},\n",
       " {'neg': 0.092, 'neu': 0.819, 'pos': 0.089, 'compound': 0.8323},\n",
       " {'neg': 0.071, 'neu': 0.815, 'pos': 0.114, 'compound': 0.9997},\n",
       " {'neg': 0.079, 'neu': 0.815, 'pos': 0.106, 'compound': 0.9998}]"
      ]
     },
     "execution_count": 16,
     "metadata": {},
     "output_type": "execute_result"
    }
   ],
   "source": [
    "# Sentiment for each chapter\n",
    "chapter_sentiments = []\n",
    "[chapter_sentiments.append(sid.polarity_scores(chapter)) for chapter in _chapters]\n",
    "chapter_sentiments"
   ]
  },
  {
   "cell_type": "code",
   "execution_count": 17,
   "metadata": {},
   "outputs": [],
   "source": [
    "# It's not surprising that the sentiment of TGG is mostly neutral\n",
    "    # This is because Nick is mostly narrating the story without extreme emotions or criticisms\n",
    "# However, there's a fluctuation in chapter 7\n",
    "    # In chapter 7, the negative score (0.092) is higer than any other negative score by about 0.015 in average\n",
    "    # It's not coincident that this chapter is also likely the climax of the book \n",
    "        # where the characters' names occur the most frequently\n",
    "    # (In fact, I think the reason why the sentiment of chapter 7 is slightly more negative is because\n",
    "        # of the fight between Gatsby, Daisy, and Tom)"
   ]
  },
  {
   "cell_type": "code",
   "execution_count": 18,
   "metadata": {},
   "outputs": [],
   "source": [
    "# The symbolism \"Green Light\""
   ]
  },
  {
   "cell_type": "code",
   "execution_count": 19,
   "metadata": {},
   "outputs": [
    {
     "data": {
      "text/html": [
       "<div>\n",
       "<style scoped>\n",
       "    .dataframe tbody tr th:only-of-type {\n",
       "        vertical-align: middle;\n",
       "    }\n",
       "\n",
       "    .dataframe tbody tr th {\n",
       "        vertical-align: top;\n",
       "    }\n",
       "\n",
       "    .dataframe thead th {\n",
       "        text-align: right;\n",
       "    }\n",
       "</style>\n",
       "<table border=\"1\" class=\"dataframe\">\n",
       "  <thead>\n",
       "    <tr style=\"text-align: right;\">\n",
       "      <th></th>\n",
       "      <th>GreenLight</th>\n",
       "    </tr>\n",
       "  </thead>\n",
       "  <tbody>\n",
       "    <tr>\n",
       "      <th>0</th>\n",
       "      <td>0</td>\n",
       "    </tr>\n",
       "    <tr>\n",
       "      <th>1</th>\n",
       "      <td>1</td>\n",
       "    </tr>\n",
       "    <tr>\n",
       "      <th>2</th>\n",
       "      <td>0</td>\n",
       "    </tr>\n",
       "    <tr>\n",
       "      <th>3</th>\n",
       "      <td>0</td>\n",
       "    </tr>\n",
       "    <tr>\n",
       "      <th>4</th>\n",
       "      <td>0</td>\n",
       "    </tr>\n",
       "    <tr>\n",
       "      <th>5</th>\n",
       "      <td>2</td>\n",
       "    </tr>\n",
       "    <tr>\n",
       "      <th>6</th>\n",
       "      <td>0</td>\n",
       "    </tr>\n",
       "    <tr>\n",
       "      <th>7</th>\n",
       "      <td>0</td>\n",
       "    </tr>\n",
       "    <tr>\n",
       "      <th>8</th>\n",
       "      <td>0</td>\n",
       "    </tr>\n",
       "    <tr>\n",
       "      <th>9</th>\n",
       "      <td>2</td>\n",
       "    </tr>\n",
       "  </tbody>\n",
       "</table>\n",
       "</div>"
      ],
      "text/plain": [
       "   GreenLight\n",
       "0           0\n",
       "1           1\n",
       "2           0\n",
       "3           0\n",
       "4           0\n",
       "5           2\n",
       "6           0\n",
       "7           0\n",
       "8           0\n",
       "9           2"
      ]
     },
     "execution_count": 19,
     "metadata": {},
     "output_type": "execute_result"
    }
   ],
   "source": [
    "greenlight = pd.DataFrame().assign(\n",
    "    GreenLight=np.char.count(_chapters, 'green light'),\n",
    ")\n",
    "greenlight"
   ]
  },
  {
   "cell_type": "code",
   "execution_count": 20,
   "metadata": {},
   "outputs": [],
   "source": [
    "# The symbolism \"Green Light\" first occurs in chapter 1 (foreshadowing: Gatsby looking at Daisy's house)\n",
    "# Then, it occurs twice in chapter 5 (before the climax, when Daisy and Gatsby start to go out again)\n",
    "# Lastly, it occurs in chapter 9 (the ending, after Gatsby's death, Nick's analysis for the whole situation)"
   ]
  },
  {
   "cell_type": "code",
   "execution_count": 21,
   "metadata": {},
   "outputs": [],
   "source": [
    "# Wow"
   ]
  },
  {
   "cell_type": "code",
   "execution_count": null,
   "metadata": {},
   "outputs": [],
   "source": []
  }
 ],
 "metadata": {
  "kernelspec": {
   "display_name": "Python 3 (ipykernel)",
   "language": "python",
   "name": "python3"
  },
  "language_info": {
   "codemirror_mode": {
    "name": "ipython",
    "version": 3
   },
   "file_extension": ".py",
   "mimetype": "text/x-python",
   "name": "python",
   "nbconvert_exporter": "python",
   "pygments_lexer": "ipython3",
   "version": "3.9.5"
  }
 },
 "nbformat": 4,
 "nbformat_minor": 1
}
